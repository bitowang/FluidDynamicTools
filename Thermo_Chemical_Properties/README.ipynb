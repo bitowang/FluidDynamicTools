{
 "cells": [
  {
   "cell_type": "code",
   "execution_count": null,
   "metadata": {},
   "outputs": [],
   "source": []
  },
  {
   "cell_type": "markdown",
   "metadata": {},
   "source": [
    "# Thermochemical Properties of Gas\n",
    "\n",
    "This folder contains a combined set of data for thermochemical properties of gas. Data is obtained from different source. Please use at your own risk.\n",
    "\n",
    "1. **Capitelli**: Collision integrals calculated by Capitelli et al. (Deprecated)\n",
    "2. **Collision_Integral**: Collision integrals obtained from different source. \n",
    "   - JsonData: Data in json format. The data itself is quite self-explanatory.\n",
    "   - RawData: Raw data I obtained.\n",
    "   - Model:\n",
    "       - Capitelli A1/A2: Check the [original paper](https://arc.aiaa.org/doi/10.2514/2.6517)\n",
    "         $$ \\begin{align}\n",
    "          \\sigma^2 {\\bar{\\Omega}_{ij}^{(l,s)}}^{*} &= \\dfrac{a_1+a_2 T^{a_3}}{a_4+a_5 T^{a_6}} \\\\\n",
    "          \\sigma^2 {\\bar{\\Omega}_{ij}^{(l,s)}}^{*} &= \\text{RHS of A2 in the paper}\n",
    "          \\end{align}$$          \n",
    "       - GuptaYos: Check the [NASA report](https://ntrs.nasa.gov/search.jsp?R=19900017748)\n",
    "         $$\\begin{align}\n",
    "     \\pi\\sigma^2 {\\bar{\\Omega}_{ij}^{(1,1)}}^{*} =     \\pi \\bar{\\Omega}_{ij}^{(1,1)} & = [\\exp(D_{\\bar{\\Omega}_{ij}^{(1,1)}})]\\cdot T^{\\left[\\displaystyle A_{\\bar{\\Omega}_{ij}^{(1,1)}} (\\ln T)^2 + B_{\\bar{\\Omega}_{ij}^{(1,1)}} \\ln T + C_{\\bar{\\Omega}_{ij}^{(1,1)}}\\right]} \\\\\n",
    "   \\pi  \\sigma^2 {\\bar{\\Omega}_{ij}^{(2,2)}}^{*} =       \\pi \\bar{\\Omega}_{ij}^{(2,2)} & = [\\exp(D_{\\bar{\\Omega}_{ij}^{(2,2)}})]\\cdot T^{\\left[\\displaystyle A_{\\bar{\\Omega}_{ij}^{(2,2)}} (\\ln T)^2 + B_{\\bar{\\Omega}_{ij}^{(2,2)}} \\ln T + C_{\\bar{\\Omega}_{ij}^{(2,2)}}\\right]} \\\\\n",
    "        {B_{ij}^*} & = [\\exp(C_{{B_{ij}^*}})]\\cdot T^{\\left[\\displaystyle A_{{B_{ij}^*}} \\ln T+ B_{B_{ij}^*} \\right]} \\\\\n",
    "         \\end{align}$$\n",
    "       - GuptaYos2: \n",
    "          $$\\begin{align}\n",
    "          \\pi \\bar{\\Omega}_{ij}^{(1,1)} & = D_{\\bar{\\Omega}_{ij}^{(1,1)}}\\cdot T^{\\left[\\displaystyle A_{\\bar{\\Omega}_{ij}^{(1,1)}} (\\ln T)^2 + B_{\\bar{\\Omega}_{ij}^{(1,1)}} \\ln T + C_{\\bar{\\Omega}_{ij}^{(1,1)}}\\right]} \\\\\n",
    "          \\pi \\bar{\\Omega}_{ij}^{(2,2)} & = D_{\\bar{\\Omega}_{ij}^{(2,2)}}\\cdot T^{\\left[\\displaystyle A_{\\bar{\\Omega}_{ij}^{(2,2)}} (\\ln T)^2 + B_{\\bar{\\Omega}_{ij}^{(2,2)}} \\ln T + C_{\\bar{\\Omega}_{ij}^{(2,2)}}\\right]} \\\\\n",
    "          {B_{ij}^*} & = C_{{B_{ij}^*}}\\cdot T^{\\left[\\displaystyle A_{{B_{ij}^*}} \\ln T+ B_{B_{ij}^*} \\right]} \\\\\n",
    "       \\end{align}$$\n",
    "       - Unit: ${\\bar{\\Omega}_{ij}^{(l,s)}}^{*}$ is unitless, $\\bar{\\Omega}_{ij}^{(l,s)}$ is in Angstrom$^2$\n",
    "       - Bonus: First principle calculations:\n",
    "         $$\\begin{gather}\n",
    "          Q^{(l)}(E_t) = 2\\pi   \\int_{0}^{+\\infty} (1-\\cos^l \\chi ) b \\mathrm{d} b \\\\\n",
    "          \\pi \\sigma^2 {\\Omega ^{(l,s)*}}(T) = \\dfrac{4(l+1)}{(s+1)![2l+1-(-1)^l]}\\int_0^\\infty Q^{(l)}(E_t) {\\gamma ^{2s}} \\times {e^{ - {\\gamma ^2}}}{\\gamma ^3}\\mathrm{d}\\gamma, \\quad \\dfrac{E_t}{kT} = \\gamma^2\n",
    "          \\end{gather}$$\n",
    "3. **Lewis**: Lewis table, which is used to calculate thermodynamic properties. Check [NASA Report NASA/TP—2002-211556](https://www.grc.nasa.gov/WWW/CEAWeb/TP-2002-21556.htm) to learn how it works\n",
    "4. **Molecule_Properties**: Properties of molecules like mass, charge, electronic_levels and etc. The json data is converted from [Eilmer3](http://cfcfd.mechmining.uq.edu.au/eilmer3.html)'s lua table. All credit goes to Daniel F. Potter's hard work!"
   ]
  },
  {
   "cell_type": "code",
   "execution_count": null,
   "metadata": {},
   "outputs": [],
   "source": []
  }
 ],
 "metadata": {
  "kernelspec": {
   "display_name": "Python 3",
   "language": "python",
   "name": "python3"
  },
  "language_info": {
   "codemirror_mode": {
    "name": "ipython",
    "version": 3
   },
   "file_extension": ".py",
   "mimetype": "text/x-python",
   "name": "python",
   "nbconvert_exporter": "python",
   "pygments_lexer": "ipython3",
   "version": "3.6.5"
  }
 },
 "nbformat": 4,
 "nbformat_minor": 2
}
